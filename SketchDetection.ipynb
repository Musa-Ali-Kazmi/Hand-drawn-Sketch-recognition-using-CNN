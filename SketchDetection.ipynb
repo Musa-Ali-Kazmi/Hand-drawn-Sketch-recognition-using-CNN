{
  "nbformat": 4,
  "nbformat_minor": 0,
  "metadata": {
    "colab": {
      "provenance": [],
      "mount_file_id": "1zqBxLTmgTj9zPkFsS_lMJ7gobaGinWec",
      "authorship_tag": "ABX9TyOuMEuz8Ut58B3dzLk+RHtM",
      "include_colab_link": true
    },
    "kernelspec": {
      "name": "python3",
      "display_name": "Python 3"
    },
    "language_info": {
      "name": "python"
    }
  },
  "cells": [
    {
      "cell_type": "markdown",
      "metadata": {
        "id": "view-in-github",
        "colab_type": "text"
      },
      "source": [
        "<a href=\"https://colab.research.google.com/github/Musa-Ali-Kazmi/Hand-drawn-Sketch-recognition-using-CNN/blob/main/SketchDetection.ipynb\" target=\"_parent\"><img src=\"https://colab.research.google.com/assets/colab-badge.svg\" alt=\"Open In Colab\"/></a>"
      ]
    },
    {
      "cell_type": "code",
      "source": [
        "!sudo apt-get install unrar"
      ],
      "metadata": {
        "id": "OG7zVNgKde5w",
        "colab": {
          "base_uri": "https://localhost:8080/"
        },
        "outputId": "74f192bc-5bab-473b-c598-c5dc9bde298b"
      },
      "execution_count": 3,
      "outputs": [
        {
          "output_type": "stream",
          "name": "stdout",
          "text": [
            "Reading package lists... Done\n",
            "Building dependency tree... Done\n",
            "Reading state information... Done\n",
            "unrar is already the newest version (1:6.1.5-1).\n",
            "0 upgraded, 0 newly installed, 0 to remove and 45 not upgraded.\n"
          ]
        }
      ]
    },
    {
      "cell_type": "code",
      "source": [
        "!unrar x /content/drive/MyDrive/DL-Assignment2/Train.rar /content/drive/MyDrive/DL-Assignment2\n"
      ],
      "metadata": {
        "id": "DBf7gco6dmjC"
      },
      "execution_count": null,
      "outputs": []
    },
    {
      "cell_type": "code",
      "source": [
        "!unrar x /content/drive/MyDrive/DL-Assignment2/Validation.rar /content/drive/MyDrive/DL-Assignment2"
      ],
      "metadata": {
        "id": "JHCMplXgeOCZ"
      },
      "execution_count": null,
      "outputs": []
    },
    {
      "cell_type": "code",
      "source": [
        "import tensorflow as tf\n",
        "from tensorflow.keras.applications import ResNet50\n",
        "from tensorflow.keras.layers import Dense, GlobalAveragePooling2D\n",
        "from tensorflow.keras.models import Model\n",
        "import pandas as pd\n",
        "from tensorflow.keras.preprocessing.image import ImageDataGenerator\n",
        "import PIL\n",
        "import PIL.Image"
      ],
      "metadata": {
        "id": "Mozk3Ou3e5dk"
      },
      "execution_count": 1,
      "outputs": []
    },
    {
      "cell_type": "code",
      "source": [
        "# Load the CSV file containing image filenames and labels\n",
        "train_df = pd.read_csv('/content/drive/MyDrive/DL-Assignment2/Train.csv')\n",
        "\n",
        "# Define ImageDataGenerator for data augmentation and normalization\n",
        "datagen = ImageDataGenerator(\n",
        "    rescale=1./255,  # Normalize pixel values to [0,1]\n",
        "    rotation_range=20,  # Random rotation up to 20 degrees\n",
        "    width_shift_range=0.2,  # Random shift width up to 20% of the image width\n",
        "    height_shift_range=0.2,  # Random shift height up to 20% of the image height\n",
        "    shear_range=0.2,  # Shear intensity (shear angle in counter-clockwise direction in degrees)\n",
        "    zoom_range=0.2,  # Random zoom up to 20%\n",
        "    horizontal_flip=True,  # Randomly flip images horizontally\n",
        "    fill_mode='nearest'  # Strategy for filling in newly created pixels\n",
        ")\n",
        "\n",
        "train_df = train_df.astype(str)  # Convert all values to strings\n",
        "\n",
        "# Flow images from the \"Train\" folder using the ImageDataGenerator and dataframe\n",
        "train_generator = datagen.flow_from_dataframe(\n",
        "    dataframe=train_df,\n",
        "    directory='/content/drive/MyDrive/DL-Assignment2/Train',  # Path to the directory containing the images\n",
        "    x_col=\"Image\",  # Column containing the image filenames\n",
        "    y_col=\"Label\",  # Column containing the image labels\n",
        "    target_size=(224, 224),  # Resize images to 224x224\n",
        "    batch_size=32,  # Batch size\n",
        "    class_mode='raw'  # Type of label encoding\n",
        "  )"
      ],
      "metadata": {
        "colab": {
          "base_uri": "https://localhost:8080/"
        },
        "id": "mTxi8zRGj19o",
        "outputId": "21713e18-44e1-4b50-e2aa-da050a51fce8"
      },
      "execution_count": 11,
      "outputs": [
        {
          "output_type": "stream",
          "name": "stdout",
          "text": [
            "Found 0 validated image filenames.\n"
          ]
        },
        {
          "output_type": "stream",
          "name": "stderr",
          "text": [
            "/usr/local/lib/python3.10/dist-packages/keras/src/preprocessing/image.py:1137: UserWarning: Found 10000 invalid image filename(s) in x_col=\"Image\". These filename(s) will be ignored.\n",
            "  warnings.warn(\n"
          ]
        }
      ]
    },
    {
      "cell_type": "code",
      "source": [
        "# Load ResNet-50 pre-trained on ImageNet without the top classification layer\n",
        "base_model = ResNet50(weights='imagenet', include_top=False)"
      ],
      "metadata": {
        "colab": {
          "base_uri": "https://localhost:8080/"
        },
        "id": "zkyhfY8Kf2rX",
        "outputId": "a568b2de-9a57-4d2e-9b6b-6025fcd115ef"
      },
      "execution_count": null,
      "outputs": [
        {
          "output_type": "stream",
          "name": "stdout",
          "text": [
            "Downloading data from https://storage.googleapis.com/tensorflow/keras-applications/resnet/resnet50_weights_tf_dim_ordering_tf_kernels_notop.h5\n",
            "94765736/94765736 [==============================] - 0s 0us/step\n"
          ]
        }
      ]
    },
    {
      "cell_type": "code",
      "source": [
        "# Freeze the base model layers\n",
        "for layer in base_model.layers:\n",
        "    layer.trainable = False\n",
        "\n",
        "# Add custom classification head\n",
        "x = GlobalAveragePooling2D()(base_model.output)\n",
        "x = Dense(250, activation='relu')(x)  # Final layer with 250 neurons\n",
        "predictions = Dense(250, activation='softmax')(x)"
      ],
      "metadata": {
        "id": "F94i3AByf6th"
      },
      "execution_count": null,
      "outputs": []
    },
    {
      "cell_type": "code",
      "source": [
        "# Combine the base model and custom classification head\n",
        "model = Model(inputs=base_model.input, outputs=predictions)\n",
        "\n",
        "# Compile the model\n",
        "model.compile(optimizer='adam',\n",
        "              loss='sparse_categorical_crossentropy',\n",
        "              metrics=['accuracy'])\n",
        "\n",
        "# Print model summary\n",
        "model.summary()"
      ],
      "metadata": {
        "id": "mJkK2P_ggquM"
      },
      "execution_count": null,
      "outputs": []
    }
  ]
}